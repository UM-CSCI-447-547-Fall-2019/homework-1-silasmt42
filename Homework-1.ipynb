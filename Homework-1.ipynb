{
 "cells": [
  {
   "cell_type": "markdown",
   "metadata": {},
   "source": [
    "# Homework 1: Reading data and regression\n",
    "## Due September 5th\n",
    "\n",
    "In class we've been working on developing the tools for linear regression.  In this homework, we'll use those tools to show that one of the original 'big data' problems can be solved quite credibly with ordinary least squares.  Note that this exercise is primarily intended to do two things: 1) provide you with some practice gathering data, and 2) evaluate your ability to reason somewhat abstractly about models.  With respect to the second point, it is in your grade's interest to provide complete and well-reasoned answers to narrative questions posed.  A correct answer can be awarded very few points if its reasoning is absent or unclear, and an incorrect answer can be awarded full points if it is well argued.   \n",
    "\n",
    "Please turn in your work via github classroom.\n",
    "\n",
    "## The big one\n",
    "If you've ever lived in an area prone to seismic activity, you know that people are always a little apprehensive about *the big one*, that giant earthquake (Magnitude greater than 7) that is going to break the pots and collapse the overpasses.  However, the big one rarely happens... until it does.  What happens more frequently is smaller earthquakes.  And even more frequently than that, even smaller earthquakes.  In fact, it's long been understood that earthquake frequency has an inverse relationship with magnitude.  Here, we're going to quantify that relationship for the west coast of the US.  \n",
    "\n",
    "## Data wrangling\n",
    "The first thing that we'll need to do is to aquire a dataset that can help us say something about earthquake frequency.  Fortunately, the United States Geologic Survey keeps such a database.  \n",
    "\n",
    "First, navigate to https://earthquake.usgs.gov/earthquakes/search/.  This is the USGS' central repository for earthquake data.  We'll be interested in data from the last twenty years.  Enter the appropriate date.  Next, we're interested in data from the west coast of the lower 48.  Use the Custom Geographic Region button on the right side of the page, followed by the Draw Rectangle on the Map button.  Draw a rectangle around the west coast, from the Canadian to Mexican border.  Next, open the Output Options tab and select .csv (comma separated values, a plain text format).  Finally, under Limit Results, enter 19999 (the site will throw an error if you make this value bigger).  This series of commands will deliver the ~20k most recent earthquakes of all sizes to occur in this region of the world.  It may take a moment for their server to pull your query together. Download the file.\n",
    "\n",
    "Next, import the data into ipython.  This is easily done with [Pandas' read_csv function](https://pandas.pydata.org/pandas-docs/stable/reference/api/pandas.read_csv.html)."
   ]
  },
  {
   "cell_type": "code",
   "execution_count": 1,
   "metadata": {},
   "outputs": [],
   "source": [
    "# Use pandas to import the earthquake data file here\n",
    "\n",
    "# Libraries\n",
    "import pandas\n",
    "import numpy\n",
    "import matplotlib.pyplot\n",
    "\n",
    "# Get data from csv file\n",
    "earthquakes_data = pandas.read_csv('earthquakes_west_coast.csv')"
   ]
  },
  {
   "cell_type": "markdown",
   "metadata": {},
   "source": [
    "Interrogate the Pandas dataframe for the available fields using its built in method 'keys'\n"
   ]
  },
  {
   "cell_type": "code",
   "execution_count": 2,
   "metadata": {},
   "outputs": [],
   "source": [
    "keys = earthquakes_data.keys()"
   ]
  },
  {
   "cell_type": "markdown",
   "metadata": {},
   "source": [
    "We're primarily interested in determining the relationship between relative frequency and magnitude.  Extract the magnitude variable from the pandas data frame using the 'mag' key.  \n",
    "\n",
    "Next, you'll need to determine the number of earthquakes that occured in the data as a function of magnitude.  This is easily done by deciding on a set of bins, and then counting the number of items in each bin.  This is also known as a [histogram](https://docs.scipy.org/doc/numpy/reference/generated/numpy.histogram.html), and is easily computed using either numpy or matplotlib.  You'll want to use a fairly large number of bins, say 50 (equally spaced).  *Note that the histogram function provided by either of the above libraries returns total counts rather than relative frequencies: you'll need to compute relative frequencies by dividing the returned counts by the total number of earthquakes in the dataset.*"
   ]
  },
  {
   "cell_type": "code",
   "execution_count": 3,
   "metadata": {
    "scrolled": true
   },
   "outputs": [],
   "source": [
    "# Get the magnitude data\n",
    "magnitude = earthquakes_data['mag']\n",
    "\n",
    "# Build a histogram for the magnitude data\n",
    "bins_count, bins = numpy.histogram(magnitude, 50)\n",
    "# Center of the bin, but not a centroid weighted by each earthquake in the bin\n",
    "bins_centroid = (bins[:-1] + bins[1:]) / 2\n",
    "\n",
    "# Build relative frequency from the histogram\n",
    "bins_frequency = bins_count / magnitude.count()"
   ]
  },
  {
   "cell_type": "markdown",
   "metadata": {},
   "source": [
    "**(20 pts) Make a plot with bin centroids on the $x$-axis and relative frequency on the $y$-axis.  Based on your results, please provide a few sentences describing whether the model $y = w_0 + w_1 x$ is a good fit to the data, if $x$ represents earthquake magnitude and $y$ represents relative frequency.**\n",
    "\n",
    "The linear model given does not seem to be a good model with a first look at the plot because the data points do not seem to be in a line.  This makes sence with the source of the data because a line would be available for a negative **$x$** and would at some point give a negative **$y$** for some **$x$**. The magnitude and relative frequency of an earthquake both could only be a positive value."
   ]
  },
  {
   "cell_type": "code",
   "execution_count": 4,
   "metadata": {},
   "outputs": [
    {
     "data": {
      "image/png": "[encoded data removed]",
      "text/plain": [
       "<Figure size 432x288 with 1 Axes>"
      ]
     },
     "metadata": {
      "needs_background": "light"
     },
     "output_type": "display_data"
    }
   ],
   "source": [
    "# Create plot for frequency from data\n",
    "matplotlib.pyplot.plot(bins_centroid, bins_frequency, 'ro')\n",
    "matplotlib.pyplot.title(\"Histogram of Magnitude Frequency\")\n",
    "matplotlib.pyplot.show()"
   ]
  },
  {
   "cell_type": "markdown",
   "metadata": {},
   "source": [
    "As it turns out, a physical model that gives the predicted relative frequency of earthquakes of different magnitudes can be derived from physics, and is given by a so-called *power-law*\n",
    "$$\n",
    "y = ax^b\n",
    "$$\n",
    "**(20pts) If you wanted to directly fit this power-law model to these data, would you be able to use the linear regression code that we've already developed to do so?  If so, how?  If not, why not?**\n",
    "\n",
    "No, you would not be able to use linear regression to directly fit the power-law because the power law model is not a linear model. You could use linear regression if you created new variables from **$x$** and **$y$** which related in a linear model."
   ]
  },
  {
   "cell_type": "markdown",
   "metadata": {},
   "source": [
    "As it turns out, it is not possible to use linear regression to fit this model directly.  However, it can be done by using a clever transformation of the data.  **(20pts) Plot the base-10 logarithm of the event counts.  Now does a linear model seem like a good fit?  If the power law is a good fit to the untransformed data, why does it make sense that a linear model should fit the log-transformed data (HINT: take the logarithm of both sides of the power law)**\n",
    "\n",
    "$$y=a x^b$$\n",
    "$$log_{10}(y)=log_{10}(a x^b)$$\n",
    "$$log_{10}(y)=log_{10}(a)+log_{10}(x^b)$$\n",
    "$$log_{10}(y)=log_{10}(a)+b*log_{10}(x)$$\n",
    "\n",
    "It makes sence that a linear model should fit the transformed data because the transformed model gives a linear equation to relate the log-transformed variables."
   ]
  },
  {
   "cell_type": "markdown",
   "metadata": {},
   "source": [
    "Finally, **(40pts) use one of the methods that you developed for linear regression in class to fit a line to the log-transformed counts.  What is the slope of that line?  Is the model a good fit for all sizes of earthquake?**\n",
    "\n",
    "$$ X^T X \\mathbf{w} = X^T \\mathbf{y}.$$\n",
    "\n",
    "The slope of the line is -7.13606028. The line is a good fit for smaller magnitude sizes, but as the sizes get bigger the line loses acurracy. This makes sense considerring that the larger the magnitude the less data there is available."
   ]
  },
  {
   "cell_type": "code",
   "execution_count": 5,
   "metadata": {},
   "outputs": [
    {
     "data": {
      "image/png": "[encoded data removed]",
      "text/plain": [
       "<Figure size 432x288 with 1 Axes>"
      ]
     },
     "metadata": {
      "needs_background": "light"
     },
     "output_type": "display_data"
    },
    {
     "data": {
      "text/plain": [
       "array([ 2.20455856, -7.13606028])"
      ]
     },
     "execution_count": 5,
     "metadata": {},
     "output_type": "execute_result"
    }
   ],
   "source": [
    "# Zeros don't work with log10.\n",
    "# It's interesting to consider that a log10(0) result of negative infinity would always ruin the resulting linear model.\n",
    "bins_valued_frequency = []\n",
    "bins_valued_centroid = []\n",
    "for index in range(bins_frequency.size):\n",
    "    if bins_frequency[index] > 0:\n",
    "        bins_valued_frequency.append(bins_frequency[index])\n",
    "        bins_valued_centroid.append(bins_centroid[index])\n",
    "\n",
    "# Transform data to linear model\n",
    "bins_frequency_log = numpy.log10(bins_valued_frequency)\n",
    "bins_centroid_log = numpy.log10(bins_valued_centroid)\n",
    "\n",
    "# Create plot for log10 frequency from data\n",
    "matplotlib.pyplot.plot(bins_centroid_log, bins_frequency_log, 'ro')\n",
    "matplotlib.pyplot.title(\"Histogram of Log10 of Magnitude Frequency\")\n",
    "matplotlib.pyplot.xlabel('Log10 of Magnitude')\n",
    "matplotlib.pyplot.ylabel('Log10 of Relative Frequency')\n",
    "\n",
    "# Find a,b (w)\n",
    "def vandermonde(x_vector):\n",
    "    X = []\n",
    "    for x in x_vector:\n",
    "        X.append([1,x])\n",
    "    return numpy.array(X)\n",
    "\n",
    "X = vandermonde(bins_centroid_log)\n",
    "X_transpose = X.transpose()\n",
    "# X^T*X*w = X^T*y\n",
    "# w = (X^T*X)^-1*X^T*y\n",
    "w = numpy.linalg.inv(X.transpose().dot(X)).dot(X.transpose()).dot(bins_frequency_log)\n",
    "\n",
    "# Plot the fitted line\n",
    "matplotlib.pyplot.plot(bins_centroid_log, w[0] + w[1]*bins_centroid_log, 'bo')\n",
    "\n",
    "# Show the plot\n",
    "matplotlib.pyplot.show()\n",
    "w"
   ]
  },
  {
   "cell_type": "code",
   "execution_count": 6,
   "metadata": {},
   "outputs": [
    {
     "data": {
      "image/png": "[encoded data removed]",
      "text/plain": [
       "<Figure size 432x288 with 1 Axes>"
      ]
     },
     "metadata": {
      "needs_background": "light"
     },
     "output_type": "display_data"
    }
   ],
   "source": [
    "# Plot original variables\n",
    "matplotlib.pyplot.plot(bins_valued_centroid, bins_valued_frequency, 'ro')\n",
    "matplotlib.pyplot.title(\"Histogram of Magnitude Frequency\")\n",
    "matplotlib.pyplot.xlabel('Magnitude')\n",
    "matplotlib.pyplot.ylabel('Relative Frequency')\n",
    "\n",
    "# Plot fitted curve transformed back from log\n",
    "matplotlib.pyplot.plot(bins_valued_centroid, numpy.power(10, w[0])*numpy.power(bins_valued_centroid, w[1]), 'bo')\n",
    "\n",
    "# Show the plot\n",
    "matplotlib.pyplot.show()"
   ]
  },
  {
   "cell_type": "code",
   "execution_count": null,
   "metadata": {},
   "outputs": [],
   "source": []
  }
 ],
 "metadata": {
  "kernelspec": {
   "display_name": "Python 3",
   "language": "python",
   "name": "python3"
  },
  "language_info": {
   "codemirror_mode": {
    "name": "ipython",
    "version": 3
   },
   "file_extension": ".py",
   "mimetype": "text/x-python",
   "name": "python",
   "nbconvert_exporter": "python",
   "pygments_lexer": "ipython3",
   "version": "3.7.4"
  }
 },
 "nbformat": 4,
 "nbformat_minor": 2
}
